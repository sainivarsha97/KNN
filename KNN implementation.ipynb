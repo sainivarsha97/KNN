{
 "cells": [
  {
   "cell_type": "code",
   "execution_count": 5,
   "metadata": {},
   "outputs": [],
   "source": [
    "from collections import Counter"
   ]
  },
  {
   "cell_type": "code",
   "execution_count": 27,
   "metadata": {},
   "outputs": [],
   "source": [
    "class Knn():\n",
    "    def __init__(self,k=5):\n",
    "        self.k=k\n",
    "    \n",
    "    def fit(self,xtrain,ytrain):\n",
    "        self.xtrain=xtrain\n",
    "        self.ytrain=ytrain\n",
    "    def predict_helper(self,x):\n",
    "        output=[]\n",
    "        distance=((self.xtrain-x)**2).sum(axis=1)\n",
    "        for i in range(len(distance)):\n",
    "            output.append([distance[i],self.ytrain[i]])\n",
    "        output.sort()\n",
    "        output=output[:self.k]\n",
    "        vote=[]\n",
    "        a=Counter([x[1] for x in output]).most_common(1)[0][0]\n",
    "        return a\n",
    "    def predict(self,xtest):\n",
    "        ypred=[]\n",
    "        for i in xtest:\n",
    "            ypred.append(self.predict_helper(i))\n",
    "        return ypred\n",
    "    def score(self,xtest,ytest):\n",
    "        sc=(self.predict(xtest)==ytest).sum()/ytest.shape[0]\n",
    "        return sc\n",
    "        \n",
    "        \n",
    "        \n",
    "        \n",
    "        "
   ]
  },
  {
   "cell_type": "code",
   "execution_count": 32,
   "metadata": {},
   "outputs": [],
   "source": [
    "from sklearn import datasets\n",
    "data=datasets.load_iris()\n",
    "from sklearn.model_selection import train_test_split\n",
    "xtrain,xtest,ytrain,ytest=train_test_split(data.data,data.target)"
   ]
  },
  {
   "cell_type": "code",
   "execution_count": 33,
   "metadata": {},
   "outputs": [
    {
     "data": {
      "text/plain": [
       "0.97368421052631582"
      ]
     },
     "execution_count": 33,
     "metadata": {},
     "output_type": "execute_result"
    }
   ],
   "source": [
    "kn=Knn(k=3)\n",
    "kn.fit(xtrain,ytrain)\n",
    "kn.predict(xtest)\n",
    "kn.score(xtest,ytest)"
   ]
  },
  {
   "cell_type": "code",
   "execution_count": null,
   "metadata": {
    "collapsed": true
   },
   "outputs": [],
   "source": []
  },
  {
   "cell_type": "code",
   "execution_count": null,
   "metadata": {
    "collapsed": true
   },
   "outputs": [],
   "source": []
  }
 ],
 "metadata": {
  "kernelspec": {
   "display_name": "Python 3",
   "language": "python",
   "name": "python3"
  },
  "language_info": {
   "codemirror_mode": {
    "name": "ipython",
    "version": 3
   },
   "file_extension": ".py",
   "mimetype": "text/x-python",
   "name": "python",
   "nbconvert_exporter": "python",
   "pygments_lexer": "ipython3",
   "version": "3.6.5"
  }
 },
 "nbformat": 4,
 "nbformat_minor": 2
}
